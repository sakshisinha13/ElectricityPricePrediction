{
 "cells": [
  {
   "cell_type": "code",
   "execution_count": 1,
   "metadata": {},
   "outputs": [],
   "source": [
    "import pandas as pd\n",
    "import numpy as np"
   ]
  },
  {
   "cell_type": "code",
   "execution_count": 2,
   "metadata": {},
   "outputs": [
    {
     "name": "stderr",
     "output_type": "stream",
     "text": [
      "C:\\Users\\SAKSHI\\Anaconda3\\lib\\site-packages\\IPython\\core\\interactiveshell.py:3063: DtypeWarning: Columns (0,1,9,12,13,14,15) have mixed types.Specify dtype option on import or set low_memory=False.\n",
      "  interactivity=interactivity, compiler=compiler, result=result)\n"
     ]
    }
   ],
   "source": [
    "df = pd.read_csv('electricity1.csv')"
   ]
  },
  {
   "cell_type": "code",
   "execution_count": 3,
   "metadata": {},
   "outputs": [
    {
     "data": {
      "text/html": [
       "<div>\n",
       "<style scoped>\n",
       "    .dataframe tbody tr th:only-of-type {\n",
       "        vertical-align: middle;\n",
       "    }\n",
       "\n",
       "    .dataframe tbody tr th {\n",
       "        vertical-align: top;\n",
       "    }\n",
       "\n",
       "    .dataframe thead th {\n",
       "        text-align: right;\n",
       "    }\n",
       "</style>\n",
       "<table border=\"1\" class=\"dataframe\">\n",
       "  <thead>\n",
       "    <tr style=\"text-align: right;\">\n",
       "      <th></th>\n",
       "      <th>DateTime</th>\n",
       "      <th>Holiday</th>\n",
       "      <th>HolidayFlag</th>\n",
       "      <th>DayOfWeek</th>\n",
       "      <th>WeekOfYear</th>\n",
       "      <th>Day</th>\n",
       "      <th>Month</th>\n",
       "      <th>Year</th>\n",
       "      <th>PeriodOfDay</th>\n",
       "      <th>ForecastWindProduction</th>\n",
       "      <th>SystemLoadEA</th>\n",
       "      <th>SMPEA</th>\n",
       "      <th>ORKTemperature</th>\n",
       "      <th>ORKWindspeed</th>\n",
       "      <th>CO2Intensity</th>\n",
       "      <th>ActualWindProduction</th>\n",
       "      <th>SystemLoadEP2</th>\n",
       "      <th>SMPEP2</th>\n",
       "    </tr>\n",
       "  </thead>\n",
       "  <tbody>\n",
       "    <tr>\n",
       "      <th>0</th>\n",
       "      <td>01-11-2011 00:00</td>\n",
       "      <td>None</td>\n",
       "      <td>0.0</td>\n",
       "      <td>1.0</td>\n",
       "      <td>44.0</td>\n",
       "      <td>1.0</td>\n",
       "      <td>11.0</td>\n",
       "      <td>2011.0</td>\n",
       "      <td>0.0</td>\n",
       "      <td>315.31</td>\n",
       "      <td>3388.77</td>\n",
       "      <td>49.26</td>\n",
       "      <td>6</td>\n",
       "      <td>9.3</td>\n",
       "      <td>600.71</td>\n",
       "      <td>356</td>\n",
       "      <td>3159.60</td>\n",
       "      <td>54.32</td>\n",
       "    </tr>\n",
       "    <tr>\n",
       "      <th>1</th>\n",
       "      <td>01-11-2011 00:30</td>\n",
       "      <td>None</td>\n",
       "      <td>0.0</td>\n",
       "      <td>1.0</td>\n",
       "      <td>44.0</td>\n",
       "      <td>1.0</td>\n",
       "      <td>11.0</td>\n",
       "      <td>2011.0</td>\n",
       "      <td>1.0</td>\n",
       "      <td>321.8</td>\n",
       "      <td>3196.66</td>\n",
       "      <td>49.26</td>\n",
       "      <td>6</td>\n",
       "      <td>11.1</td>\n",
       "      <td>605.42</td>\n",
       "      <td>317</td>\n",
       "      <td>2973.01</td>\n",
       "      <td>54.23</td>\n",
       "    </tr>\n",
       "    <tr>\n",
       "      <th>2</th>\n",
       "      <td>01-11-2011 01:00</td>\n",
       "      <td>None</td>\n",
       "      <td>0.0</td>\n",
       "      <td>1.0</td>\n",
       "      <td>44.0</td>\n",
       "      <td>1.0</td>\n",
       "      <td>11.0</td>\n",
       "      <td>2011.0</td>\n",
       "      <td>2.0</td>\n",
       "      <td>328.57</td>\n",
       "      <td>3060.71</td>\n",
       "      <td>49.10</td>\n",
       "      <td>5</td>\n",
       "      <td>11.1</td>\n",
       "      <td>589.97</td>\n",
       "      <td>311</td>\n",
       "      <td>2834.00</td>\n",
       "      <td>54.23</td>\n",
       "    </tr>\n",
       "    <tr>\n",
       "      <th>3</th>\n",
       "      <td>01-11-2011 01:30</td>\n",
       "      <td>None</td>\n",
       "      <td>0.0</td>\n",
       "      <td>1.0</td>\n",
       "      <td>44.0</td>\n",
       "      <td>1.0</td>\n",
       "      <td>11.0</td>\n",
       "      <td>2011.0</td>\n",
       "      <td>3.0</td>\n",
       "      <td>335.6</td>\n",
       "      <td>2945.56</td>\n",
       "      <td>48.04</td>\n",
       "      <td>6</td>\n",
       "      <td>9.3</td>\n",
       "      <td>585.94</td>\n",
       "      <td>313</td>\n",
       "      <td>2725.99</td>\n",
       "      <td>53.47</td>\n",
       "    </tr>\n",
       "    <tr>\n",
       "      <th>4</th>\n",
       "      <td>01-11-2011 02:00</td>\n",
       "      <td>None</td>\n",
       "      <td>0.0</td>\n",
       "      <td>1.0</td>\n",
       "      <td>44.0</td>\n",
       "      <td>1.0</td>\n",
       "      <td>11.0</td>\n",
       "      <td>2011.0</td>\n",
       "      <td>4.0</td>\n",
       "      <td>342.9</td>\n",
       "      <td>2849.34</td>\n",
       "      <td>33.75</td>\n",
       "      <td>6</td>\n",
       "      <td>11.1</td>\n",
       "      <td>571.52</td>\n",
       "      <td>346</td>\n",
       "      <td>2655.64</td>\n",
       "      <td>39.87</td>\n",
       "    </tr>\n",
       "  </tbody>\n",
       "</table>\n",
       "</div>"
      ],
      "text/plain": [
       "           DateTime Holiday  HolidayFlag  DayOfWeek  WeekOfYear  Day  Month  \\\n",
       "0  01-11-2011 00:00    None          0.0        1.0        44.0  1.0   11.0   \n",
       "1  01-11-2011 00:30    None          0.0        1.0        44.0  1.0   11.0   \n",
       "2  01-11-2011 01:00    None          0.0        1.0        44.0  1.0   11.0   \n",
       "3  01-11-2011 01:30    None          0.0        1.0        44.0  1.0   11.0   \n",
       "4  01-11-2011 02:00    None          0.0        1.0        44.0  1.0   11.0   \n",
       "\n",
       "     Year  PeriodOfDay ForecastWindProduction  SystemLoadEA  SMPEA  \\\n",
       "0  2011.0          0.0                 315.31       3388.77  49.26   \n",
       "1  2011.0          1.0                  321.8       3196.66  49.26   \n",
       "2  2011.0          2.0                 328.57       3060.71  49.10   \n",
       "3  2011.0          3.0                  335.6       2945.56  48.04   \n",
       "4  2011.0          4.0                  342.9       2849.34  33.75   \n",
       "\n",
       "  ORKTemperature ORKWindspeed CO2Intensity ActualWindProduction  \\\n",
       "0              6          9.3       600.71                  356   \n",
       "1              6         11.1       605.42                  317   \n",
       "2              5         11.1       589.97                  311   \n",
       "3              6          9.3       585.94                  313   \n",
       "4              6         11.1       571.52                  346   \n",
       "\n",
       "   SystemLoadEP2  SMPEP2  \n",
       "0        3159.60   54.32  \n",
       "1        2973.01   54.23  \n",
       "2        2834.00   54.23  \n",
       "3        2725.99   53.47  \n",
       "4        2655.64   39.87  "
      ]
     },
     "execution_count": 3,
     "metadata": {},
     "output_type": "execute_result"
    }
   ],
   "source": [
    "df.head()"
   ]
  },
  {
   "cell_type": "code",
   "execution_count": 4,
   "metadata": {},
   "outputs": [
    {
     "name": "stdout",
     "output_type": "stream",
     "text": [
      "<class 'pandas.core.frame.DataFrame'>\n",
      "RangeIndex: 38014 entries, 0 to 38013\n",
      "Data columns (total 18 columns):\n",
      " #   Column                  Non-Null Count  Dtype  \n",
      "---  ------                  --------------  -----  \n",
      " 0   DateTime                20494 non-null  object \n",
      " 1   Holiday                 20494 non-null  object \n",
      " 2   HolidayFlag             20494 non-null  float64\n",
      " 3   DayOfWeek               20494 non-null  float64\n",
      " 4   WeekOfYear              20494 non-null  float64\n",
      " 5   Day                     20494 non-null  float64\n",
      " 6   Month                   20494 non-null  float64\n",
      " 7   Year                    20494 non-null  float64\n",
      " 8   PeriodOfDay             20494 non-null  float64\n",
      " 9   ForecastWindProduction  20494 non-null  object \n",
      " 10  SystemLoadEA            20494 non-null  float64\n",
      " 11  SMPEA                   20494 non-null  float64\n",
      " 12  ORKTemperature          20494 non-null  object \n",
      " 13  ORKWindspeed            20494 non-null  object \n",
      " 14  CO2Intensity            20494 non-null  object \n",
      " 15  ActualWindProduction    20494 non-null  object \n",
      " 16  SystemLoadEP2           20494 non-null  float64\n",
      " 17  SMPEP2                  20494 non-null  float64\n",
      "dtypes: float64(11), object(7)\n",
      "memory usage: 5.2+ MB\n"
     ]
    }
   ],
   "source": [
    "df.info()"
   ]
  },
  {
   "cell_type": "code",
   "execution_count": 5,
   "metadata": {},
   "outputs": [],
   "source": [
    "df[\"ForecastWindProduction\"] = pd.to_numeric(df[\"ForecastWindProduction\"], errors= 'coerce')\n",
    "df[\"SystemLoadEA\"] = pd.to_numeric(df[\"SystemLoadEA\"], errors= 'coerce')\n",
    "df[\"SMPEA\"] = pd.to_numeric(df[\"SMPEA\"], errors= 'coerce')\n",
    "df[\"ORKTemperature\"] = pd.to_numeric(df[\"ORKTemperature\"], errors= 'coerce')\n",
    "df[\"ORKWindspeed\"] = pd.to_numeric(df[\"ORKWindspeed\"], errors= 'coerce')\n",
    "df[\"CO2Intensity\"] = pd.to_numeric(df[\"CO2Intensity\"], errors= 'coerce')\n",
    "df[\"ActualWindProduction\"] = pd.to_numeric(df[\"ActualWindProduction\"], errors= 'coerce')\n",
    "df[\"SystemLoadEP2\"] = pd.to_numeric(df[\"SystemLoadEP2\"], errors= 'coerce')\n",
    "df[\"SMPEP2\"] = pd.to_numeric(df[\"SMPEP2\"], errors= 'coerce')"
   ]
  },
  {
   "cell_type": "code",
   "execution_count": 6,
   "metadata": {},
   "outputs": [
    {
     "name": "stdout",
     "output_type": "stream",
     "text": [
      "<class 'pandas.core.frame.DataFrame'>\n",
      "RangeIndex: 38014 entries, 0 to 38013\n",
      "Data columns (total 18 columns):\n",
      " #   Column                  Non-Null Count  Dtype  \n",
      "---  ------                  --------------  -----  \n",
      " 0   DateTime                20494 non-null  object \n",
      " 1   Holiday                 20494 non-null  object \n",
      " 2   HolidayFlag             20494 non-null  float64\n",
      " 3   DayOfWeek               20494 non-null  float64\n",
      " 4   WeekOfYear              20494 non-null  float64\n",
      " 5   Day                     20494 non-null  float64\n",
      " 6   Month                   20494 non-null  float64\n",
      " 7   Year                    20494 non-null  float64\n",
      " 8   PeriodOfDay             20494 non-null  float64\n",
      " 9   ForecastWindProduction  20493 non-null  float64\n",
      " 10  SystemLoadEA            20494 non-null  float64\n",
      " 11  SMPEA                   20494 non-null  float64\n",
      " 12  ORKTemperature          20271 non-null  float64\n",
      " 13  ORKWindspeed            20271 non-null  float64\n",
      " 14  CO2Intensity            20490 non-null  float64\n",
      " 15  ActualWindProduction    20493 non-null  float64\n",
      " 16  SystemLoadEP2           20494 non-null  float64\n",
      " 17  SMPEP2                  20494 non-null  float64\n",
      "dtypes: float64(16), object(2)\n",
      "memory usage: 5.2+ MB\n"
     ]
    }
   ],
   "source": [
    "df.info()"
   ]
  },
  {
   "cell_type": "code",
   "execution_count": 7,
   "metadata": {},
   "outputs": [],
   "source": [
    "df=df.dropna()"
   ]
  },
  {
   "cell_type": "code",
   "execution_count": 8,
   "metadata": {},
   "outputs": [
    {
     "data": {
      "text/plain": [
       "DateTime                  0\n",
       "Holiday                   0\n",
       "HolidayFlag               0\n",
       "DayOfWeek                 0\n",
       "WeekOfYear                0\n",
       "Day                       0\n",
       "Month                     0\n",
       "Year                      0\n",
       "PeriodOfDay               0\n",
       "ForecastWindProduction    0\n",
       "SystemLoadEA              0\n",
       "SMPEA                     0\n",
       "ORKTemperature            0\n",
       "ORKWindspeed              0\n",
       "CO2Intensity              0\n",
       "ActualWindProduction      0\n",
       "SystemLoadEP2             0\n",
       "SMPEP2                    0\n",
       "dtype: int64"
      ]
     },
     "execution_count": 8,
     "metadata": {},
     "output_type": "execute_result"
    }
   ],
   "source": [
    "df.isnull().sum()"
   ]
  },
  {
   "cell_type": "code",
   "execution_count": 9,
   "metadata": {},
   "outputs": [
    {
     "data": {
      "image/png": "[encoded data removed]",
      "text/plain": [
       "<Figure size 1152x864 with 2 Axes>"
      ]
     },
     "metadata": {
      "needs_background": "light"
     },
     "output_type": "display_data"
    }
   ],
   "source": [
    "import seaborn as sns\n",
    "import matplotlib.pyplot as plt\n",
    "correlations = df.corr(method='pearson')\n",
    "plt.figure(figsize=(16, 12))\n",
    "sns.heatmap(correlations, cmap=\"coolwarm\", annot=True)\n",
    "plt.show()"
   ]
  },
  {
   "cell_type": "code",
   "execution_count": 10,
   "metadata": {},
   "outputs": [
    {
     "data": {
      "text/html": [
       "<div>\n",
       "<style scoped>\n",
       "    .dataframe tbody tr th:only-of-type {\n",
       "        vertical-align: middle;\n",
       "    }\n",
       "\n",
       "    .dataframe tbody tr th {\n",
       "        vertical-align: top;\n",
       "    }\n",
       "\n",
       "    .dataframe thead th {\n",
       "        text-align: right;\n",
       "    }\n",
       "</style>\n",
       "<table border=\"1\" class=\"dataframe\">\n",
       "  <thead>\n",
       "    <tr style=\"text-align: right;\">\n",
       "      <th></th>\n",
       "      <th>HolidayFlag</th>\n",
       "      <th>DayOfWeek</th>\n",
       "      <th>WeekOfYear</th>\n",
       "      <th>Day</th>\n",
       "      <th>Month</th>\n",
       "      <th>Year</th>\n",
       "      <th>PeriodOfDay</th>\n",
       "      <th>ForecastWindProduction</th>\n",
       "      <th>SystemLoadEA</th>\n",
       "      <th>SMPEA</th>\n",
       "      <th>ORKTemperature</th>\n",
       "      <th>ORKWindspeed</th>\n",
       "      <th>CO2Intensity</th>\n",
       "      <th>ActualWindProduction</th>\n",
       "      <th>SystemLoadEP2</th>\n",
       "      <th>SMPEP2</th>\n",
       "    </tr>\n",
       "  </thead>\n",
       "  <tbody>\n",
       "    <tr>\n",
       "      <th>HolidayFlag</th>\n",
       "      <td>1.000000</td>\n",
       "      <td>-0.129543</td>\n",
       "      <td>-0.014648</td>\n",
       "      <td>0.013115</td>\n",
       "      <td>0.022834</td>\n",
       "      <td>-0.023108</td>\n",
       "      <td>-0.000218</td>\n",
       "      <td>0.063010</td>\n",
       "      <td>-0.072270</td>\n",
       "      <td>-0.017786</td>\n",
       "      <td>-0.053498</td>\n",
       "      <td>0.052985</td>\n",
       "      <td>-0.075483</td>\n",
       "      <td>0.056517</td>\n",
       "      <td>-0.089369</td>\n",
       "      <td>-0.018508</td>\n",
       "    </tr>\n",
       "    <tr>\n",
       "      <th>DayOfWeek</th>\n",
       "      <td>-0.129543</td>\n",
       "      <td>1.000000</td>\n",
       "      <td>0.010989</td>\n",
       "      <td>-0.013712</td>\n",
       "      <td>0.006664</td>\n",
       "      <td>0.007420</td>\n",
       "      <td>0.000087</td>\n",
       "      <td>-0.073313</td>\n",
       "      <td>-0.182769</td>\n",
       "      <td>-0.064873</td>\n",
       "      <td>-0.035063</td>\n",
       "      <td>-0.082128</td>\n",
       "      <td>0.049804</td>\n",
       "      <td>-0.066954</td>\n",
       "      <td>-0.184233</td>\n",
       "      <td>-0.052544</td>\n",
       "    </tr>\n",
       "    <tr>\n",
       "      <th>WeekOfYear</th>\n",
       "      <td>-0.014648</td>\n",
       "      <td>0.010989</td>\n",
       "      <td>1.000000</td>\n",
       "      <td>0.054114</td>\n",
       "      <td>0.973671</td>\n",
       "      <td>-0.473003</td>\n",
       "      <td>0.000404</td>\n",
       "      <td>0.143849</td>\n",
       "      <td>0.042392</td>\n",
       "      <td>0.012731</td>\n",
       "      <td>0.002143</td>\n",
       "      <td>0.057255</td>\n",
       "      <td>-0.122074</td>\n",
       "      <td>0.130633</td>\n",
       "      <td>0.002467</td>\n",
       "      <td>0.020380</td>\n",
       "    </tr>\n",
       "    <tr>\n",
       "      <th>Day</th>\n",
       "      <td>0.013115</td>\n",
       "      <td>-0.013712</td>\n",
       "      <td>0.054114</td>\n",
       "      <td>1.000000</td>\n",
       "      <td>0.001002</td>\n",
       "      <td>0.005078</td>\n",
       "      <td>-0.000083</td>\n",
       "      <td>0.097509</td>\n",
       "      <td>-0.019975</td>\n",
       "      <td>-0.015550</td>\n",
       "      <td>0.069815</td>\n",
       "      <td>0.091572</td>\n",
       "      <td>-0.124190</td>\n",
       "      <td>0.087352</td>\n",
       "      <td>-0.044426</td>\n",
       "      <td>-0.015981</td>\n",
       "    </tr>\n",
       "    <tr>\n",
       "      <th>Month</th>\n",
       "      <td>0.022834</td>\n",
       "      <td>0.006664</td>\n",
       "      <td>0.973671</td>\n",
       "      <td>0.001002</td>\n",
       "      <td>1.000000</td>\n",
       "      <td>-0.478905</td>\n",
       "      <td>0.000415</td>\n",
       "      <td>0.136488</td>\n",
       "      <td>0.040684</td>\n",
       "      <td>0.014494</td>\n",
       "      <td>-0.001577</td>\n",
       "      <td>0.051453</td>\n",
       "      <td>-0.116981</td>\n",
       "      <td>0.120443</td>\n",
       "      <td>0.004173</td>\n",
       "      <td>0.022881</td>\n",
       "    </tr>\n",
       "    <tr>\n",
       "      <th>Year</th>\n",
       "      <td>-0.023108</td>\n",
       "      <td>0.007420</td>\n",
       "      <td>-0.473003</td>\n",
       "      <td>0.005078</td>\n",
       "      <td>-0.478905</td>\n",
       "      <td>1.000000</td>\n",
       "      <td>-0.000629</td>\n",
       "      <td>-0.300195</td>\n",
       "      <td>-0.151166</td>\n",
       "      <td>0.045203</td>\n",
       "      <td>0.155327</td>\n",
       "      <td>-0.145107</td>\n",
       "      <td>0.221870</td>\n",
       "      <td>-0.304642</td>\n",
       "      <td>-0.111161</td>\n",
       "      <td>0.028059</td>\n",
       "    </tr>\n",
       "    <tr>\n",
       "      <th>PeriodOfDay</th>\n",
       "      <td>-0.000218</td>\n",
       "      <td>0.000087</td>\n",
       "      <td>0.000404</td>\n",
       "      <td>-0.000083</td>\n",
       "      <td>0.000415</td>\n",
       "      <td>-0.000629</td>\n",
       "      <td>1.000000</td>\n",
       "      <td>0.034568</td>\n",
       "      <td>0.619824</td>\n",
       "      <td>0.344012</td>\n",
       "      <td>0.140051</td>\n",
       "      <td>0.085234</td>\n",
       "      <td>-0.085802</td>\n",
       "      <td>0.066003</td>\n",
       "      <td>0.602416</td>\n",
       "      <td>0.314698</td>\n",
       "    </tr>\n",
       "    <tr>\n",
       "      <th>ForecastWindProduction</th>\n",
       "      <td>0.063010</td>\n",
       "      <td>-0.073313</td>\n",
       "      <td>0.143849</td>\n",
       "      <td>0.097509</td>\n",
       "      <td>0.136488</td>\n",
       "      <td>-0.300195</td>\n",
       "      <td>0.034568</td>\n",
       "      <td>1.000000</td>\n",
       "      <td>0.190138</td>\n",
       "      <td>-0.063930</td>\n",
       "      <td>-0.110842</td>\n",
       "      <td>0.699914</td>\n",
       "      <td>-0.717978</td>\n",
       "      <td>0.946165</td>\n",
       "      <td>0.052535</td>\n",
       "      <td>-0.086646</td>\n",
       "    </tr>\n",
       "    <tr>\n",
       "      <th>SystemLoadEA</th>\n",
       "      <td>-0.072270</td>\n",
       "      <td>-0.182769</td>\n",
       "      <td>0.042392</td>\n",
       "      <td>-0.019975</td>\n",
       "      <td>0.040684</td>\n",
       "      <td>-0.151166</td>\n",
       "      <td>0.619824</td>\n",
       "      <td>0.190138</td>\n",
       "      <td>1.000000</td>\n",
       "      <td>0.501489</td>\n",
       "      <td>-0.055257</td>\n",
       "      <td>0.180394</td>\n",
       "      <td>-0.152817</td>\n",
       "      <td>0.218178</td>\n",
       "      <td>0.974225</td>\n",
       "      <td>0.469977</td>\n",
       "    </tr>\n",
       "    <tr>\n",
       "      <th>SMPEA</th>\n",
       "      <td>-0.017786</td>\n",
       "      <td>-0.064873</td>\n",
       "      <td>0.012731</td>\n",
       "      <td>-0.015550</td>\n",
       "      <td>0.014494</td>\n",
       "      <td>0.045203</td>\n",
       "      <td>0.344012</td>\n",
       "      <td>-0.063930</td>\n",
       "      <td>0.501489</td>\n",
       "      <td>1.000000</td>\n",
       "      <td>0.054877</td>\n",
       "      <td>-0.003639</td>\n",
       "      <td>-0.030020</td>\n",
       "      <td>-0.042920</td>\n",
       "      <td>0.504721</td>\n",
       "      <td>0.631380</td>\n",
       "    </tr>\n",
       "    <tr>\n",
       "      <th>ORKTemperature</th>\n",
       "      <td>-0.053498</td>\n",
       "      <td>-0.035063</td>\n",
       "      <td>0.002143</td>\n",
       "      <td>0.069815</td>\n",
       "      <td>-0.001577</td>\n",
       "      <td>0.155327</td>\n",
       "      <td>0.140051</td>\n",
       "      <td>-0.110842</td>\n",
       "      <td>-0.055257</td>\n",
       "      <td>0.054877</td>\n",
       "      <td>1.000000</td>\n",
       "      <td>0.107793</td>\n",
       "      <td>-0.102313</td>\n",
       "      <td>-0.075582</td>\n",
       "      <td>-0.060757</td>\n",
       "      <td>0.032525</td>\n",
       "    </tr>\n",
       "    <tr>\n",
       "      <th>ORKWindspeed</th>\n",
       "      <td>0.052985</td>\n",
       "      <td>-0.082128</td>\n",
       "      <td>0.057255</td>\n",
       "      <td>0.091572</td>\n",
       "      <td>0.051453</td>\n",
       "      <td>-0.145107</td>\n",
       "      <td>0.085234</td>\n",
       "      <td>0.699914</td>\n",
       "      <td>0.180394</td>\n",
       "      <td>-0.003639</td>\n",
       "      <td>0.107793</td>\n",
       "      <td>1.000000</td>\n",
       "      <td>-0.553272</td>\n",
       "      <td>0.717226</td>\n",
       "      <td>0.087978</td>\n",
       "      <td>-0.038692</td>\n",
       "    </tr>\n",
       "    <tr>\n",
       "      <th>CO2Intensity</th>\n",
       "      <td>-0.075483</td>\n",
       "      <td>0.049804</td>\n",
       "      <td>-0.122074</td>\n",
       "      <td>-0.124190</td>\n",
       "      <td>-0.116981</td>\n",
       "      <td>0.221870</td>\n",
       "      <td>-0.085802</td>\n",
       "      <td>-0.717978</td>\n",
       "      <td>-0.152817</td>\n",
       "      <td>-0.030020</td>\n",
       "      <td>-0.102313</td>\n",
       "      <td>-0.553272</td>\n",
       "      <td>1.000000</td>\n",
       "      <td>-0.736261</td>\n",
       "      <td>-0.033225</td>\n",
       "      <td>0.007759</td>\n",
       "    </tr>\n",
       "    <tr>\n",
       "      <th>ActualWindProduction</th>\n",
       "      <td>0.056517</td>\n",
       "      <td>-0.066954</td>\n",
       "      <td>0.130633</td>\n",
       "      <td>0.087352</td>\n",
       "      <td>0.120443</td>\n",
       "      <td>-0.304642</td>\n",
       "      <td>0.066003</td>\n",
       "      <td>0.946165</td>\n",
       "      <td>0.218178</td>\n",
       "      <td>-0.042920</td>\n",
       "      <td>-0.075582</td>\n",
       "      <td>0.717226</td>\n",
       "      <td>-0.736261</td>\n",
       "      <td>1.000000</td>\n",
       "      <td>0.076218</td>\n",
       "      <td>-0.081715</td>\n",
       "    </tr>\n",
       "    <tr>\n",
       "      <th>SystemLoadEP2</th>\n",
       "      <td>-0.089369</td>\n",
       "      <td>-0.184233</td>\n",
       "      <td>0.002467</td>\n",
       "      <td>-0.044426</td>\n",
       "      <td>0.004173</td>\n",
       "      <td>-0.111161</td>\n",
       "      <td>0.602416</td>\n",
       "      <td>0.052535</td>\n",
       "      <td>0.974225</td>\n",
       "      <td>0.504721</td>\n",
       "      <td>-0.060757</td>\n",
       "      <td>0.087978</td>\n",
       "      <td>-0.033225</td>\n",
       "      <td>0.076218</td>\n",
       "      <td>1.000000</td>\n",
       "      <td>0.493475</td>\n",
       "    </tr>\n",
       "    <tr>\n",
       "      <th>SMPEP2</th>\n",
       "      <td>-0.018508</td>\n",
       "      <td>-0.052544</td>\n",
       "      <td>0.020380</td>\n",
       "      <td>-0.015981</td>\n",
       "      <td>0.022881</td>\n",
       "      <td>0.028059</td>\n",
       "      <td>0.314698</td>\n",
       "      <td>-0.086646</td>\n",
       "      <td>0.469977</td>\n",
       "      <td>0.631380</td>\n",
       "      <td>0.032525</td>\n",
       "      <td>-0.038692</td>\n",
       "      <td>0.007759</td>\n",
       "      <td>-0.081715</td>\n",
       "      <td>0.493475</td>\n",
       "      <td>1.000000</td>\n",
       "    </tr>\n",
       "  </tbody>\n",
       "</table>\n",
       "</div>"
      ],
      "text/plain": [
       "                        HolidayFlag  DayOfWeek  WeekOfYear       Day  \\\n",
       "HolidayFlag                1.000000  -0.129543   -0.014648  0.013115   \n",
       "DayOfWeek                 -0.129543   1.000000    0.010989 -0.013712   \n",
       "WeekOfYear                -0.014648   0.010989    1.000000  0.054114   \n",
       "Day                        0.013115  -0.013712    0.054114  1.000000   \n",
       "Month                      0.022834   0.006664    0.973671  0.001002   \n",
       "Year                      -0.023108   0.007420   -0.473003  0.005078   \n",
       "PeriodOfDay               -0.000218   0.000087    0.000404 -0.000083   \n",
       "ForecastWindProduction     0.063010  -0.073313    0.143849  0.097509   \n",
       "SystemLoadEA              -0.072270  -0.182769    0.042392 -0.019975   \n",
       "SMPEA                     -0.017786  -0.064873    0.012731 -0.015550   \n",
       "ORKTemperature            -0.053498  -0.035063    0.002143  0.069815   \n",
       "ORKWindspeed               0.052985  -0.082128    0.057255  0.091572   \n",
       "CO2Intensity              -0.075483   0.049804   -0.122074 -0.124190   \n",
       "ActualWindProduction       0.056517  -0.066954    0.130633  0.087352   \n",
       "SystemLoadEP2             -0.089369  -0.184233    0.002467 -0.044426   \n",
       "SMPEP2                    -0.018508  -0.052544    0.020380 -0.015981   \n",
       "\n",
       "                           Month      Year  PeriodOfDay  \\\n",
       "HolidayFlag             0.022834 -0.023108    -0.000218   \n",
       "DayOfWeek               0.006664  0.007420     0.000087   \n",
       "WeekOfYear              0.973671 -0.473003     0.000404   \n",
       "Day                     0.001002  0.005078    -0.000083   \n",
       "Month                   1.000000 -0.478905     0.000415   \n",
       "Year                   -0.478905  1.000000    -0.000629   \n",
       "PeriodOfDay             0.000415 -0.000629     1.000000   \n",
       "ForecastWindProduction  0.136488 -0.300195     0.034568   \n",
       "SystemLoadEA            0.040684 -0.151166     0.619824   \n",
       "SMPEA                   0.014494  0.045203     0.344012   \n",
       "ORKTemperature         -0.001577  0.155327     0.140051   \n",
       "ORKWindspeed            0.051453 -0.145107     0.085234   \n",
       "CO2Intensity           -0.116981  0.221870    -0.085802   \n",
       "ActualWindProduction    0.120443 -0.304642     0.066003   \n",
       "SystemLoadEP2           0.004173 -0.111161     0.602416   \n",
       "SMPEP2                  0.022881  0.028059     0.314698   \n",
       "\n",
       "                        ForecastWindProduction  SystemLoadEA     SMPEA  \\\n",
       "HolidayFlag                           0.063010     -0.072270 -0.017786   \n",
       "DayOfWeek                            -0.073313     -0.182769 -0.064873   \n",
       "WeekOfYear                            0.143849      0.042392  0.012731   \n",
       "Day                                   0.097509     -0.019975 -0.015550   \n",
       "Month                                 0.136488      0.040684  0.014494   \n",
       "Year                                 -0.300195     -0.151166  0.045203   \n",
       "PeriodOfDay                           0.034568      0.619824  0.344012   \n",
       "ForecastWindProduction                1.000000      0.190138 -0.063930   \n",
       "SystemLoadEA                          0.190138      1.000000  0.501489   \n",
       "SMPEA                                -0.063930      0.501489  1.000000   \n",
       "ORKTemperature                       -0.110842     -0.055257  0.054877   \n",
       "ORKWindspeed                          0.699914      0.180394 -0.003639   \n",
       "CO2Intensity                         -0.717978     -0.152817 -0.030020   \n",
       "ActualWindProduction                  0.946165      0.218178 -0.042920   \n",
       "SystemLoadEP2                         0.052535      0.974225  0.504721   \n",
       "SMPEP2                               -0.086646      0.469977  0.631380   \n",
       "\n",
       "                        ORKTemperature  ORKWindspeed  CO2Intensity  \\\n",
       "HolidayFlag                  -0.053498      0.052985     -0.075483   \n",
       "DayOfWeek                    -0.035063     -0.082128      0.049804   \n",
       "WeekOfYear                    0.002143      0.057255     -0.122074   \n",
       "Day                           0.069815      0.091572     -0.124190   \n",
       "Month                        -0.001577      0.051453     -0.116981   \n",
       "Year                          0.155327     -0.145107      0.221870   \n",
       "PeriodOfDay                   0.140051      0.085234     -0.085802   \n",
       "ForecastWindProduction       -0.110842      0.699914     -0.717978   \n",
       "SystemLoadEA                 -0.055257      0.180394     -0.152817   \n",
       "SMPEA                         0.054877     -0.003639     -0.030020   \n",
       "ORKTemperature                1.000000      0.107793     -0.102313   \n",
       "ORKWindspeed                  0.107793      1.000000     -0.553272   \n",
       "CO2Intensity                 -0.102313     -0.553272      1.000000   \n",
       "ActualWindProduction         -0.075582      0.717226     -0.736261   \n",
       "SystemLoadEP2                -0.060757      0.087978     -0.033225   \n",
       "SMPEP2                        0.032525     -0.038692      0.007759   \n",
       "\n",
       "                        ActualWindProduction  SystemLoadEP2    SMPEP2  \n",
       "HolidayFlag                         0.056517      -0.089369 -0.018508  \n",
       "DayOfWeek                          -0.066954      -0.184233 -0.052544  \n",
       "WeekOfYear                          0.130633       0.002467  0.020380  \n",
       "Day                                 0.087352      -0.044426 -0.015981  \n",
       "Month                               0.120443       0.004173  0.022881  \n",
       "Year                               -0.304642      -0.111161  0.028059  \n",
       "PeriodOfDay                         0.066003       0.602416  0.314698  \n",
       "ForecastWindProduction              0.946165       0.052535 -0.086646  \n",
       "SystemLoadEA                        0.218178       0.974225  0.469977  \n",
       "SMPEA                              -0.042920       0.504721  0.631380  \n",
       "ORKTemperature                     -0.075582      -0.060757  0.032525  \n",
       "ORKWindspeed                        0.717226       0.087978 -0.038692  \n",
       "CO2Intensity                       -0.736261      -0.033225  0.007759  \n",
       "ActualWindProduction                1.000000       0.076218 -0.081715  \n",
       "SystemLoadEP2                       0.076218       1.000000  0.493475  \n",
       "SMPEP2                             -0.081715       0.493475  1.000000  "
      ]
     },
     "execution_count": 10,
     "metadata": {},
     "output_type": "execute_result"
    }
   ],
   "source": [
    "df.corr()"
   ]
  },
  {
   "cell_type": "code",
   "execution_count": 11,
   "metadata": {},
   "outputs": [],
   "source": [
    "final_dataset=df[[\"HolidayFlag\", \"Month\",\"PeriodOfDay\", \"ForecastWindProduction\", \"SystemLoadEA\", \n",
    "          \"SMPEA\", \"ORKTemperature\", \"CO2Intensity\",\"ActualWindProduction\", \"SystemLoadEP2\",\"SMPEP2\"]]"
   ]
  },
  {
   "cell_type": "code",
   "execution_count": 12,
   "metadata": {},
   "outputs": [
    {
     "data": {
      "text/html": [
       "<div>\n",
       "<style scoped>\n",
       "    .dataframe tbody tr th:only-of-type {\n",
       "        vertical-align: middle;\n",
       "    }\n",
       "\n",
       "    .dataframe tbody tr th {\n",
       "        vertical-align: top;\n",
       "    }\n",
       "\n",
       "    .dataframe thead th {\n",
       "        text-align: right;\n",
       "    }\n",
       "</style>\n",
       "<table border=\"1\" class=\"dataframe\">\n",
       "  <thead>\n",
       "    <tr style=\"text-align: right;\">\n",
       "      <th></th>\n",
       "      <th>HolidayFlag</th>\n",
       "      <th>Month</th>\n",
       "      <th>PeriodOfDay</th>\n",
       "      <th>ForecastWindProduction</th>\n",
       "      <th>SystemLoadEA</th>\n",
       "      <th>SMPEA</th>\n",
       "      <th>ORKTemperature</th>\n",
       "      <th>CO2Intensity</th>\n",
       "      <th>ActualWindProduction</th>\n",
       "      <th>SystemLoadEP2</th>\n",
       "      <th>SMPEP2</th>\n",
       "    </tr>\n",
       "  </thead>\n",
       "  <tbody>\n",
       "    <tr>\n",
       "      <th>0</th>\n",
       "      <td>0.0</td>\n",
       "      <td>11.0</td>\n",
       "      <td>0.0</td>\n",
       "      <td>315.31</td>\n",
       "      <td>3388.77</td>\n",
       "      <td>49.26</td>\n",
       "      <td>6.0</td>\n",
       "      <td>600.71</td>\n",
       "      <td>356.0</td>\n",
       "      <td>3159.60</td>\n",
       "      <td>54.32</td>\n",
       "    </tr>\n",
       "    <tr>\n",
       "      <th>1</th>\n",
       "      <td>0.0</td>\n",
       "      <td>11.0</td>\n",
       "      <td>1.0</td>\n",
       "      <td>321.80</td>\n",
       "      <td>3196.66</td>\n",
       "      <td>49.26</td>\n",
       "      <td>6.0</td>\n",
       "      <td>605.42</td>\n",
       "      <td>317.0</td>\n",
       "      <td>2973.01</td>\n",
       "      <td>54.23</td>\n",
       "    </tr>\n",
       "    <tr>\n",
       "      <th>2</th>\n",
       "      <td>0.0</td>\n",
       "      <td>11.0</td>\n",
       "      <td>2.0</td>\n",
       "      <td>328.57</td>\n",
       "      <td>3060.71</td>\n",
       "      <td>49.10</td>\n",
       "      <td>5.0</td>\n",
       "      <td>589.97</td>\n",
       "      <td>311.0</td>\n",
       "      <td>2834.00</td>\n",
       "      <td>54.23</td>\n",
       "    </tr>\n",
       "    <tr>\n",
       "      <th>3</th>\n",
       "      <td>0.0</td>\n",
       "      <td>11.0</td>\n",
       "      <td>3.0</td>\n",
       "      <td>335.60</td>\n",
       "      <td>2945.56</td>\n",
       "      <td>48.04</td>\n",
       "      <td>6.0</td>\n",
       "      <td>585.94</td>\n",
       "      <td>313.0</td>\n",
       "      <td>2725.99</td>\n",
       "      <td>53.47</td>\n",
       "    </tr>\n",
       "    <tr>\n",
       "      <th>4</th>\n",
       "      <td>0.0</td>\n",
       "      <td>11.0</td>\n",
       "      <td>4.0</td>\n",
       "      <td>342.90</td>\n",
       "      <td>2849.34</td>\n",
       "      <td>33.75</td>\n",
       "      <td>6.0</td>\n",
       "      <td>571.52</td>\n",
       "      <td>346.0</td>\n",
       "      <td>2655.64</td>\n",
       "      <td>39.87</td>\n",
       "    </tr>\n",
       "  </tbody>\n",
       "</table>\n",
       "</div>"
      ],
      "text/plain": [
       "   HolidayFlag  Month  PeriodOfDay  ForecastWindProduction  SystemLoadEA  \\\n",
       "0          0.0   11.0          0.0                  315.31       3388.77   \n",
       "1          0.0   11.0          1.0                  321.80       3196.66   \n",
       "2          0.0   11.0          2.0                  328.57       3060.71   \n",
       "3          0.0   11.0          3.0                  335.60       2945.56   \n",
       "4          0.0   11.0          4.0                  342.90       2849.34   \n",
       "\n",
       "   SMPEA  ORKTemperature  CO2Intensity  ActualWindProduction  SystemLoadEP2  \\\n",
       "0  49.26             6.0        600.71                 356.0        3159.60   \n",
       "1  49.26             6.0        605.42                 317.0        2973.01   \n",
       "2  49.10             5.0        589.97                 311.0        2834.00   \n",
       "3  48.04             6.0        585.94                 313.0        2725.99   \n",
       "4  33.75             6.0        571.52                 346.0        2655.64   \n",
       "\n",
       "   SMPEP2  \n",
       "0   54.32  \n",
       "1   54.23  \n",
       "2   54.23  \n",
       "3   53.47  \n",
       "4   39.87  "
      ]
     },
     "execution_count": 12,
     "metadata": {},
     "output_type": "execute_result"
    }
   ],
   "source": [
    "final_dataset.head()"
   ]
  },
  {
   "cell_type": "code",
   "execution_count": 13,
   "metadata": {},
   "outputs": [],
   "source": [
    "x=final_dataset[[\"HolidayFlag\", \"Month\",\"PeriodOfDay\", \"SystemLoadEA\",\"SMPEA\", \"ORKTemperature\", \"CO2Intensity\",\"ActualWindProduction\", \"SystemLoadEP2\"]]"
   ]
  },
  {
   "cell_type": "code",
   "execution_count": 14,
   "metadata": {},
   "outputs": [],
   "source": [
    "y=final_dataset[\"SMPEP2\"]"
   ]
  },
  {
   "cell_type": "code",
   "execution_count": 15,
   "metadata": {},
   "outputs": [
    {
     "data": {
      "text/html": [
       "<div>\n",
       "<style scoped>\n",
       "    .dataframe tbody tr th:only-of-type {\n",
       "        vertical-align: middle;\n",
       "    }\n",
       "\n",
       "    .dataframe tbody tr th {\n",
       "        vertical-align: top;\n",
       "    }\n",
       "\n",
       "    .dataframe thead th {\n",
       "        text-align: right;\n",
       "    }\n",
       "</style>\n",
       "<table border=\"1\" class=\"dataframe\">\n",
       "  <thead>\n",
       "    <tr style=\"text-align: right;\">\n",
       "      <th></th>\n",
       "      <th>HolidayFlag</th>\n",
       "      <th>Month</th>\n",
       "      <th>PeriodOfDay</th>\n",
       "      <th>SystemLoadEA</th>\n",
       "      <th>SMPEA</th>\n",
       "      <th>ORKTemperature</th>\n",
       "      <th>CO2Intensity</th>\n",
       "      <th>ActualWindProduction</th>\n",
       "      <th>SystemLoadEP2</th>\n",
       "    </tr>\n",
       "  </thead>\n",
       "  <tbody>\n",
       "    <tr>\n",
       "      <th>0</th>\n",
       "      <td>0.0</td>\n",
       "      <td>11.0</td>\n",
       "      <td>0.0</td>\n",
       "      <td>3388.77</td>\n",
       "      <td>49.26</td>\n",
       "      <td>6.0</td>\n",
       "      <td>600.71</td>\n",
       "      <td>356.0</td>\n",
       "      <td>3159.60</td>\n",
       "    </tr>\n",
       "    <tr>\n",
       "      <th>1</th>\n",
       "      <td>0.0</td>\n",
       "      <td>11.0</td>\n",
       "      <td>1.0</td>\n",
       "      <td>3196.66</td>\n",
       "      <td>49.26</td>\n",
       "      <td>6.0</td>\n",
       "      <td>605.42</td>\n",
       "      <td>317.0</td>\n",
       "      <td>2973.01</td>\n",
       "    </tr>\n",
       "    <tr>\n",
       "      <th>2</th>\n",
       "      <td>0.0</td>\n",
       "      <td>11.0</td>\n",
       "      <td>2.0</td>\n",
       "      <td>3060.71</td>\n",
       "      <td>49.10</td>\n",
       "      <td>5.0</td>\n",
       "      <td>589.97</td>\n",
       "      <td>311.0</td>\n",
       "      <td>2834.00</td>\n",
       "    </tr>\n",
       "    <tr>\n",
       "      <th>3</th>\n",
       "      <td>0.0</td>\n",
       "      <td>11.0</td>\n",
       "      <td>3.0</td>\n",
       "      <td>2945.56</td>\n",
       "      <td>48.04</td>\n",
       "      <td>6.0</td>\n",
       "      <td>585.94</td>\n",
       "      <td>313.0</td>\n",
       "      <td>2725.99</td>\n",
       "    </tr>\n",
       "    <tr>\n",
       "      <th>4</th>\n",
       "      <td>0.0</td>\n",
       "      <td>11.0</td>\n",
       "      <td>4.0</td>\n",
       "      <td>2849.34</td>\n",
       "      <td>33.75</td>\n",
       "      <td>6.0</td>\n",
       "      <td>571.52</td>\n",
       "      <td>346.0</td>\n",
       "      <td>2655.64</td>\n",
       "    </tr>\n",
       "  </tbody>\n",
       "</table>\n",
       "</div>"
      ],
      "text/plain": [
       "   HolidayFlag  Month  PeriodOfDay  SystemLoadEA  SMPEA  ORKTemperature  \\\n",
       "0          0.0   11.0          0.0       3388.77  49.26             6.0   \n",
       "1          0.0   11.0          1.0       3196.66  49.26             6.0   \n",
       "2          0.0   11.0          2.0       3060.71  49.10             5.0   \n",
       "3          0.0   11.0          3.0       2945.56  48.04             6.0   \n",
       "4          0.0   11.0          4.0       2849.34  33.75             6.0   \n",
       "\n",
       "   CO2Intensity  ActualWindProduction  SystemLoadEP2  \n",
       "0        600.71                 356.0        3159.60  \n",
       "1        605.42                 317.0        2973.01  \n",
       "2        589.97                 311.0        2834.00  \n",
       "3        585.94                 313.0        2725.99  \n",
       "4        571.52                 346.0        2655.64  "
      ]
     },
     "execution_count": 15,
     "metadata": {},
     "output_type": "execute_result"
    }
   ],
   "source": [
    "x.head()"
   ]
  },
  {
   "cell_type": "code",
   "execution_count": 16,
   "metadata": {},
   "outputs": [
    {
     "data": {
      "text/plain": [
       "ExtraTreesRegressor(bootstrap=False, ccp_alpha=0.0, criterion='mse',\n",
       "                    max_depth=None, max_features='auto', max_leaf_nodes=None,\n",
       "                    max_samples=None, min_impurity_decrease=0.0,\n",
       "                    min_impurity_split=None, min_samples_leaf=1,\n",
       "                    min_samples_split=2, min_weight_fraction_leaf=0.0,\n",
       "                    n_estimators=100, n_jobs=None, oob_score=False,\n",
       "                    random_state=None, verbose=0, warm_start=False)"
      ]
     },
     "execution_count": 16,
     "metadata": {},
     "output_type": "execute_result"
    }
   ],
   "source": [
    "### Feature Importance\n",
    "\n",
    "from sklearn.ensemble import ExtraTreesRegressor\n",
    "import matplotlib.pyplot as plt\n",
    "model = ExtraTreesRegressor()\n",
    "model.fit(x,y)"
   ]
  },
  {
   "cell_type": "code",
   "execution_count": 17,
   "metadata": {},
   "outputs": [
    {
     "name": "stdout",
     "output_type": "stream",
     "text": [
      "[0.00572074 0.0626588  0.11827483 0.14533242 0.27964049 0.06599646\n",
      " 0.0619035  0.07430407 0.18616868]\n"
     ]
    }
   ],
   "source": [
    "print(model.feature_importances_)"
   ]
  },
  {
   "cell_type": "code",
   "execution_count": 18,
   "metadata": {},
   "outputs": [
    {
     "data": {
      "image/png": "[encoded data removed]",
      "text/plain": [
       "<Figure size 432x288 with 1 Axes>"
      ]
     },
     "metadata": {
      "needs_background": "light"
     },
     "output_type": "display_data"
    }
   ],
   "source": [
    "#plot graph of feature importances for better visualization\n",
    "feat_importances = pd.Series(model.feature_importances_, index=x.columns)\n",
    "feat_importances.nlargest(8).plot(kind='barh')\n",
    "plt.show()"
   ]
  },
  {
   "cell_type": "code",
   "execution_count": 19,
   "metadata": {},
   "outputs": [],
   "source": [
    "from sklearn.model_selection import train_test_split\n",
    "X_train, X_test, y_train, y_test = train_test_split(x, y, test_size=0.3, random_state=0)"
   ]
  },
  {
   "cell_type": "code",
   "execution_count": 20,
   "metadata": {},
   "outputs": [],
   "source": [
    "from sklearn.ensemble import RandomForestRegressor"
   ]
  },
  {
   "cell_type": "code",
   "execution_count": 21,
   "metadata": {},
   "outputs": [],
   "source": [
    "regressor=RandomForestRegressor()"
   ]
  },
  {
   "cell_type": "code",
   "execution_count": 22,
   "metadata": {},
   "outputs": [
    {
     "name": "stdout",
     "output_type": "stream",
     "text": [
      "[100, 200, 300, 400, 500, 600, 700, 800, 900, 1000, 1100, 1200]\n"
     ]
    }
   ],
   "source": [
    "n_estimators = [int(x) for x in np.linspace(start = 100, stop = 1200, num = 12)]\n",
    "print(n_estimators)"
   ]
  },
  {
   "cell_type": "code",
   "execution_count": 23,
   "metadata": {},
   "outputs": [],
   "source": [
    "from sklearn.model_selection import RandomizedSearchCV"
   ]
  },
  {
   "cell_type": "code",
   "execution_count": 24,
   "metadata": {},
   "outputs": [],
   "source": [
    "#Randomized Search CV\n",
    "\n",
    "# Number of trees in random forest\n",
    "n_estimators = [int(x) for x in np.linspace(start = 100, stop = 1200, num = 12)]\n",
    "# Number of features to consider at every split\n",
    "max_features = ['auto', 'sqrt']\n",
    "# Maximum number of levels in tree\n",
    "max_depth = [int(x) for x in np.linspace(5, 30, num = 6)]\n",
    "# max_depth.append(None)\n",
    "# Minimum number of samples required to split a node\n",
    "min_samples_split = [2, 5, 10, 15, 100]\n",
    "# Minimum number of samples required at each leaf node\n",
    "min_samples_leaf = [1, 2, 5, 10]"
   ]
  },
  {
   "cell_type": "code",
   "execution_count": 25,
   "metadata": {},
   "outputs": [
    {
     "name": "stdout",
     "output_type": "stream",
     "text": [
      "{'n_estimators': [100, 200, 300, 400, 500, 600, 700, 800, 900, 1000, 1100, 1200], 'max_features': ['auto', 'sqrt'], 'max_depth': [5, 10, 15, 20, 25, 30], 'min_samples_split': [2, 5, 10, 15, 100], 'min_samples_leaf': [1, 2, 5, 10]}\n"
     ]
    }
   ],
   "source": [
    "# Create the random grid\n",
    "random_grid = {'n_estimators': n_estimators,\n",
    "               'max_features': max_features,\n",
    "               'max_depth': max_depth,\n",
    "               'min_samples_split': min_samples_split,\n",
    "               'min_samples_leaf': min_samples_leaf}\n",
    "\n",
    "print(random_grid)"
   ]
  },
  {
   "cell_type": "code",
   "execution_count": 26,
   "metadata": {},
   "outputs": [],
   "source": [
    "# Use the random grid to search for best hyperparameters\n",
    "# First create the base model to tune\n",
    "rf = RandomForestRegressor()"
   ]
  },
  {
   "cell_type": "code",
   "execution_count": 27,
   "metadata": {},
   "outputs": [],
   "source": [
    "# Random search of parameters, using 3 fold cross validation, \n",
    "# search across 100 different combinations\n",
    "rf_random = RandomizedSearchCV(estimator = rf, param_distributions = random_grid,scoring='neg_mean_squared_error', n_iter = 10, cv = 5, verbose=2, random_state=42,n_jobs=1)"
   ]
  },
  {
   "cell_type": "code",
   "execution_count": 28,
   "metadata": {},
   "outputs": [
    {
     "name": "stdout",
     "output_type": "stream",
     "text": [
      "Fitting 5 folds for each of 10 candidates, totalling 50 fits\n",
      "[CV] n_estimators=900, min_samples_split=5, min_samples_leaf=5, max_features=sqrt, max_depth=10 \n"
     ]
    },
    {
     "name": "stderr",
     "output_type": "stream",
     "text": [
      "[Parallel(n_jobs=1)]: Using backend SequentialBackend with 1 concurrent workers.\n"
     ]
    },
    {
     "name": "stdout",
     "output_type": "stream",
     "text": [
      "[CV]  n_estimators=900, min_samples_split=5, min_samples_leaf=5, max_features=sqrt, max_depth=10, total=  36.3s\n",
      "[CV] n_estimators=900, min_samples_split=5, min_samples_leaf=5, max_features=sqrt, max_depth=10 \n"
     ]
    },
    {
     "name": "stderr",
     "output_type": "stream",
     "text": [
      "[Parallel(n_jobs=1)]: Done   1 out of   1 | elapsed:   36.2s remaining:    0.0s\n"
     ]
    },
    {
     "name": "stdout",
     "output_type": "stream",
     "text": [
      "[CV]  n_estimators=900, min_samples_split=5, min_samples_leaf=5, max_features=sqrt, max_depth=10, total=  38.4s\n",
      "[CV] n_estimators=900, min_samples_split=5, min_samples_leaf=5, max_features=sqrt, max_depth=10 \n",
      "[CV]  n_estimators=900, min_samples_split=5, min_samples_leaf=5, max_features=sqrt, max_depth=10, total=  37.8s\n",
      "[CV] n_estimators=900, min_samples_split=5, min_samples_leaf=5, max_features=sqrt, max_depth=10 \n",
      "[CV]  n_estimators=900, min_samples_split=5, min_samples_leaf=5, max_features=sqrt, max_depth=10, total=  34.1s\n",
      "[CV] n_estimators=900, min_samples_split=5, min_samples_leaf=5, max_features=sqrt, max_depth=10 \n",
      "[CV]  n_estimators=900, min_samples_split=5, min_samples_leaf=5, max_features=sqrt, max_depth=10, total=  36.0s\n",
      "[CV] n_estimators=1100, min_samples_split=10, min_samples_leaf=2, max_features=sqrt, max_depth=15 \n",
      "[CV]  n_estimators=1100, min_samples_split=10, min_samples_leaf=2, max_features=sqrt, max_depth=15, total=  54.2s\n",
      "[CV] n_estimators=1100, min_samples_split=10, min_samples_leaf=2, max_features=sqrt, max_depth=15 \n",
      "[CV]  n_estimators=1100, min_samples_split=10, min_samples_leaf=2, max_features=sqrt, max_depth=15, total=  53.2s\n",
      "[CV] n_estimators=1100, min_samples_split=10, min_samples_leaf=2, max_features=sqrt, max_depth=15 \n",
      "[CV]  n_estimators=1100, min_samples_split=10, min_samples_leaf=2, max_features=sqrt, max_depth=15, total= 1.1min\n",
      "[CV] n_estimators=1100, min_samples_split=10, min_samples_leaf=2, max_features=sqrt, max_depth=15 \n",
      "[CV]  n_estimators=1100, min_samples_split=10, min_samples_leaf=2, max_features=sqrt, max_depth=15, total= 1.1min\n",
      "[CV] n_estimators=1100, min_samples_split=10, min_samples_leaf=2, max_features=sqrt, max_depth=15 \n",
      "[CV]  n_estimators=1100, min_samples_split=10, min_samples_leaf=2, max_features=sqrt, max_depth=15, total= 1.0min\n",
      "[CV] n_estimators=300, min_samples_split=100, min_samples_leaf=5, max_features=auto, max_depth=15 \n",
      "[CV]  n_estimators=300, min_samples_split=100, min_samples_leaf=5, max_features=auto, max_depth=15, total=  31.9s\n",
      "[CV] n_estimators=300, min_samples_split=100, min_samples_leaf=5, max_features=auto, max_depth=15 \n",
      "[CV]  n_estimators=300, min_samples_split=100, min_samples_leaf=5, max_features=auto, max_depth=15, total=  30.3s\n",
      "[CV] n_estimators=300, min_samples_split=100, min_samples_leaf=5, max_features=auto, max_depth=15 \n",
      "[CV]  n_estimators=300, min_samples_split=100, min_samples_leaf=5, max_features=auto, max_depth=15, total=  32.8s\n",
      "[CV] n_estimators=300, min_samples_split=100, min_samples_leaf=5, max_features=auto, max_depth=15 \n",
      "[CV]  n_estimators=300, min_samples_split=100, min_samples_leaf=5, max_features=auto, max_depth=15, total=  38.9s\n",
      "[CV] n_estimators=300, min_samples_split=100, min_samples_leaf=5, max_features=auto, max_depth=15 \n",
      "[CV]  n_estimators=300, min_samples_split=100, min_samples_leaf=5, max_features=auto, max_depth=15, total=  37.9s\n",
      "[CV] n_estimators=400, min_samples_split=5, min_samples_leaf=5, max_features=auto, max_depth=15 \n",
      "[CV]  n_estimators=400, min_samples_split=5, min_samples_leaf=5, max_features=auto, max_depth=15, total= 1.1min\n",
      "[CV] n_estimators=400, min_samples_split=5, min_samples_leaf=5, max_features=auto, max_depth=15 \n",
      "[CV]  n_estimators=400, min_samples_split=5, min_samples_leaf=5, max_features=auto, max_depth=15, total= 1.0min\n",
      "[CV] n_estimators=400, min_samples_split=5, min_samples_leaf=5, max_features=auto, max_depth=15 \n",
      "[CV]  n_estimators=400, min_samples_split=5, min_samples_leaf=5, max_features=auto, max_depth=15, total= 1.0min\n",
      "[CV] n_estimators=400, min_samples_split=5, min_samples_leaf=5, max_features=auto, max_depth=15 \n",
      "[CV]  n_estimators=400, min_samples_split=5, min_samples_leaf=5, max_features=auto, max_depth=15, total= 1.1min\n",
      "[CV] n_estimators=400, min_samples_split=5, min_samples_leaf=5, max_features=auto, max_depth=15 \n",
      "[CV]  n_estimators=400, min_samples_split=5, min_samples_leaf=5, max_features=auto, max_depth=15, total= 1.1min\n",
      "[CV] n_estimators=700, min_samples_split=5, min_samples_leaf=10, max_features=auto, max_depth=20 \n",
      "[CV]  n_estimators=700, min_samples_split=5, min_samples_leaf=10, max_features=auto, max_depth=20, total= 1.7min\n",
      "[CV] n_estimators=700, min_samples_split=5, min_samples_leaf=10, max_features=auto, max_depth=20 \n",
      "[CV]  n_estimators=700, min_samples_split=5, min_samples_leaf=10, max_features=auto, max_depth=20, total= 1.7min\n",
      "[CV] n_estimators=700, min_samples_split=5, min_samples_leaf=10, max_features=auto, max_depth=20 \n",
      "[CV]  n_estimators=700, min_samples_split=5, min_samples_leaf=10, max_features=auto, max_depth=20, total= 1.7min\n",
      "[CV] n_estimators=700, min_samples_split=5, min_samples_leaf=10, max_features=auto, max_depth=20 \n",
      "[CV]  n_estimators=700, min_samples_split=5, min_samples_leaf=10, max_features=auto, max_depth=20, total= 1.5min\n",
      "[CV] n_estimators=700, min_samples_split=5, min_samples_leaf=10, max_features=auto, max_depth=20 \n",
      "[CV]  n_estimators=700, min_samples_split=5, min_samples_leaf=10, max_features=auto, max_depth=20, total= 1.5min\n",
      "[CV] n_estimators=1000, min_samples_split=2, min_samples_leaf=1, max_features=sqrt, max_depth=25 \n",
      "[CV]  n_estimators=1000, min_samples_split=2, min_samples_leaf=1, max_features=sqrt, max_depth=25, total= 1.3min\n",
      "[CV] n_estimators=1000, min_samples_split=2, min_samples_leaf=1, max_features=sqrt, max_depth=25 \n",
      "[CV]  n_estimators=1000, min_samples_split=2, min_samples_leaf=1, max_features=sqrt, max_depth=25, total= 1.3min\n",
      "[CV] n_estimators=1000, min_samples_split=2, min_samples_leaf=1, max_features=sqrt, max_depth=25 \n",
      "[CV]  n_estimators=1000, min_samples_split=2, min_samples_leaf=1, max_features=sqrt, max_depth=25, total= 1.1min\n",
      "[CV] n_estimators=1000, min_samples_split=2, min_samples_leaf=1, max_features=sqrt, max_depth=25 \n",
      "[CV]  n_estimators=1000, min_samples_split=2, min_samples_leaf=1, max_features=sqrt, max_depth=25, total= 1.1min\n",
      "[CV] n_estimators=1000, min_samples_split=2, min_samples_leaf=1, max_features=sqrt, max_depth=25 \n",
      "[CV]  n_estimators=1000, min_samples_split=2, min_samples_leaf=1, max_features=sqrt, max_depth=25, total= 1.1min\n",
      "[CV] n_estimators=1100, min_samples_split=15, min_samples_leaf=10, max_features=sqrt, max_depth=5 \n",
      "[CV]  n_estimators=1100, min_samples_split=15, min_samples_leaf=10, max_features=sqrt, max_depth=5, total=  23.4s\n",
      "[CV] n_estimators=1100, min_samples_split=15, min_samples_leaf=10, max_features=sqrt, max_depth=5 \n",
      "[CV]  n_estimators=1100, min_samples_split=15, min_samples_leaf=10, max_features=sqrt, max_depth=5, total=  23.2s\n",
      "[CV] n_estimators=1100, min_samples_split=15, min_samples_leaf=10, max_features=sqrt, max_depth=5 \n",
      "[CV]  n_estimators=1100, min_samples_split=15, min_samples_leaf=10, max_features=sqrt, max_depth=5, total=  23.2s\n",
      "[CV] n_estimators=1100, min_samples_split=15, min_samples_leaf=10, max_features=sqrt, max_depth=5 \n",
      "[CV]  n_estimators=1100, min_samples_split=15, min_samples_leaf=10, max_features=sqrt, max_depth=5, total=  23.4s\n",
      "[CV] n_estimators=1100, min_samples_split=15, min_samples_leaf=10, max_features=sqrt, max_depth=5 \n",
      "[CV]  n_estimators=1100, min_samples_split=15, min_samples_leaf=10, max_features=sqrt, max_depth=5, total=  23.5s\n",
      "[CV] n_estimators=300, min_samples_split=15, min_samples_leaf=1, max_features=sqrt, max_depth=15 \n",
      "[CV]  n_estimators=300, min_samples_split=15, min_samples_leaf=1, max_features=sqrt, max_depth=15, total=  13.8s\n",
      "[CV] n_estimators=300, min_samples_split=15, min_samples_leaf=1, max_features=sqrt, max_depth=15 \n",
      "[CV]  n_estimators=300, min_samples_split=15, min_samples_leaf=1, max_features=sqrt, max_depth=15, total=  13.7s\n",
      "[CV] n_estimators=300, min_samples_split=15, min_samples_leaf=1, max_features=sqrt, max_depth=15 \n",
      "[CV]  n_estimators=300, min_samples_split=15, min_samples_leaf=1, max_features=sqrt, max_depth=15, total=  13.7s\n",
      "[CV] n_estimators=300, min_samples_split=15, min_samples_leaf=1, max_features=sqrt, max_depth=15 \n",
      "[CV]  n_estimators=300, min_samples_split=15, min_samples_leaf=1, max_features=sqrt, max_depth=15, total=  13.6s\n",
      "[CV] n_estimators=300, min_samples_split=15, min_samples_leaf=1, max_features=sqrt, max_depth=15 \n",
      "[CV]  n_estimators=300, min_samples_split=15, min_samples_leaf=1, max_features=sqrt, max_depth=15, total=  13.7s\n",
      "[CV] n_estimators=700, min_samples_split=10, min_samples_leaf=2, max_features=sqrt, max_depth=5 \n"
     ]
    },
    {
     "name": "stdout",
     "output_type": "stream",
     "text": [
      "[CV]  n_estimators=700, min_samples_split=10, min_samples_leaf=2, max_features=sqrt, max_depth=5, total=  14.9s\n",
      "[CV] n_estimators=700, min_samples_split=10, min_samples_leaf=2, max_features=sqrt, max_depth=5 \n",
      "[CV]  n_estimators=700, min_samples_split=10, min_samples_leaf=2, max_features=sqrt, max_depth=5, total=  14.6s\n",
      "[CV] n_estimators=700, min_samples_split=10, min_samples_leaf=2, max_features=sqrt, max_depth=5 \n",
      "[CV]  n_estimators=700, min_samples_split=10, min_samples_leaf=2, max_features=sqrt, max_depth=5, total=  14.7s\n",
      "[CV] n_estimators=700, min_samples_split=10, min_samples_leaf=2, max_features=sqrt, max_depth=5 \n",
      "[CV]  n_estimators=700, min_samples_split=10, min_samples_leaf=2, max_features=sqrt, max_depth=5, total=  14.9s\n",
      "[CV] n_estimators=700, min_samples_split=10, min_samples_leaf=2, max_features=sqrt, max_depth=5 \n",
      "[CV]  n_estimators=700, min_samples_split=10, min_samples_leaf=2, max_features=sqrt, max_depth=5, total=  14.8s\n",
      "[CV] n_estimators=700, min_samples_split=15, min_samples_leaf=1, max_features=auto, max_depth=20 \n",
      "[CV]  n_estimators=700, min_samples_split=15, min_samples_leaf=1, max_features=auto, max_depth=20, total= 1.6min\n",
      "[CV] n_estimators=700, min_samples_split=15, min_samples_leaf=1, max_features=auto, max_depth=20 \n",
      "[CV]  n_estimators=700, min_samples_split=15, min_samples_leaf=1, max_features=auto, max_depth=20, total= 1.5min\n",
      "[CV] n_estimators=700, min_samples_split=15, min_samples_leaf=1, max_features=auto, max_depth=20 \n",
      "[CV]  n_estimators=700, min_samples_split=15, min_samples_leaf=1, max_features=auto, max_depth=20, total= 1.5min\n",
      "[CV] n_estimators=700, min_samples_split=15, min_samples_leaf=1, max_features=auto, max_depth=20 \n",
      "[CV]  n_estimators=700, min_samples_split=15, min_samples_leaf=1, max_features=auto, max_depth=20, total= 1.5min\n",
      "[CV] n_estimators=700, min_samples_split=15, min_samples_leaf=1, max_features=auto, max_depth=20 \n",
      "[CV]  n_estimators=700, min_samples_split=15, min_samples_leaf=1, max_features=auto, max_depth=20, total= 1.5min\n"
     ]
    },
    {
     "name": "stderr",
     "output_type": "stream",
     "text": [
      "[Parallel(n_jobs=1)]: Done  50 out of  50 | elapsed: 42.3min finished\n"
     ]
    },
    {
     "data": {
      "text/plain": [
       "RandomizedSearchCV(cv=5, error_score=nan,\n",
       "                   estimator=RandomForestRegressor(bootstrap=True,\n",
       "                                                   ccp_alpha=0.0,\n",
       "                                                   criterion='mse',\n",
       "                                                   max_depth=None,\n",
       "                                                   max_features='auto',\n",
       "                                                   max_leaf_nodes=None,\n",
       "                                                   max_samples=None,\n",
       "                                                   min_impurity_decrease=0.0,\n",
       "                                                   min_impurity_split=None,\n",
       "                                                   min_samples_leaf=1,\n",
       "                                                   min_samples_split=2,\n",
       "                                                   min_weight_fraction_leaf=0.0,\n",
       "                                                   n_estimators=100,\n",
       "                                                   n_jobs=None, oob_score=Fals...\n",
       "                   iid='deprecated', n_iter=10, n_jobs=1,\n",
       "                   param_distributions={'max_depth': [5, 10, 15, 20, 25, 30],\n",
       "                                        'max_features': ['auto', 'sqrt'],\n",
       "                                        'min_samples_leaf': [1, 2, 5, 10],\n",
       "                                        'min_samples_split': [2, 5, 10, 15,\n",
       "                                                              100],\n",
       "                                        'n_estimators': [100, 200, 300, 400,\n",
       "                                                         500, 600, 700, 800,\n",
       "                                                         900, 1000, 1100,\n",
       "                                                         1200]},\n",
       "                   pre_dispatch='2*n_jobs', random_state=42, refit=True,\n",
       "                   return_train_score=False, scoring='neg_mean_squared_error',\n",
       "                   verbose=2)"
      ]
     },
     "execution_count": 28,
     "metadata": {},
     "output_type": "execute_result"
    }
   ],
   "source": [
    "rf_random.fit(X_train,y_train)"
   ]
  },
  {
   "cell_type": "code",
   "execution_count": 29,
   "metadata": {},
   "outputs": [
    {
     "data": {
      "text/plain": [
       "{'n_estimators': 1000,\n",
       " 'min_samples_split': 2,\n",
       " 'min_samples_leaf': 1,\n",
       " 'max_features': 'sqrt',\n",
       " 'max_depth': 25}"
      ]
     },
     "execution_count": 29,
     "metadata": {},
     "output_type": "execute_result"
    }
   ],
   "source": [
    "rf_random.best_params_"
   ]
  },
  {
   "cell_type": "code",
   "execution_count": 31,
   "metadata": {},
   "outputs": [
    {
     "data": {
      "text/plain": [
       "-511.8322216362438"
      ]
     },
     "execution_count": 31,
     "metadata": {},
     "output_type": "execute_result"
    }
   ],
   "source": [
    "rf_random.best_score_"
   ]
  },
  {
   "cell_type": "code",
   "execution_count": 32,
   "metadata": {},
   "outputs": [],
   "source": [
    "predictions=rf_random.predict(X_test)"
   ]
  },
  {
   "cell_type": "code",
   "execution_count": 33,
   "metadata": {},
   "outputs": [
    {
     "data": {
      "text/plain": [
       "<matplotlib.axes._subplots.AxesSubplot at 0x18f49cf3240>"
      ]
     },
     "execution_count": 33,
     "metadata": {},
     "output_type": "execute_result"
    },
    {
     "data": {
      "image/png": "[encoded data removed]",
      "text/plain": [
       "<Figure size 432x288 with 1 Axes>"
      ]
     },
     "metadata": {
      "needs_background": "light"
     },
     "output_type": "display_data"
    }
   ],
   "source": [
    "sns.distplot(y_test-predictions)"
   ]
  },
  {
   "cell_type": "code",
   "execution_count": 34,
   "metadata": {},
   "outputs": [
    {
     "data": {
      "text/plain": [
       "<matplotlib.collections.PathCollection at 0x18f591b5208>"
      ]
     },
     "execution_count": 34,
     "metadata": {},
     "output_type": "execute_result"
    },
    {
     "data": {
      "image/png": "[encoded data removed]",
      "text/plain": [
       "<Figure size 432x288 with 1 Axes>"
      ]
     },
     "metadata": {
      "needs_background": "light"
     },
     "output_type": "display_data"
    }
   ],
   "source": [
    "plt.scatter(y_test,predictions)"
   ]
  },
  {
   "cell_type": "code",
   "execution_count": 35,
   "metadata": {},
   "outputs": [],
   "source": [
    "from sklearn import metrics"
   ]
  },
  {
   "cell_type": "code",
   "execution_count": 36,
   "metadata": {},
   "outputs": [
    {
     "name": "stdout",
     "output_type": "stream",
     "text": [
      "MAE: 9.608641292161794\n",
      "MSE: 478.408199939123\n",
      "RMSE: 21.872544432212795\n"
     ]
    }
   ],
   "source": [
    "print('MAE:', metrics.mean_absolute_error(y_test, predictions))\n",
    "print('MSE:', metrics.mean_squared_error(y_test, predictions))\n",
    "print('RMSE:', np.sqrt(metrics.mean_squared_error(y_test, predictions)))"
   ]
  },
  {
   "cell_type": "code",
   "execution_count": 38,
   "metadata": {},
   "outputs": [],
   "source": [
    "import pickle\n",
    "# open a file, where you ant to store the data\n",
    "file = open('random_forest_regression_model.pkl', 'wb')\n",
    "\n",
    "# dump information to that file\n",
    "pickle.dump(rf_random, file)"
   ]
  },
  {
   "cell_type": "code",
   "execution_count": null,
   "metadata": {},
   "outputs": [],
   "source": []
  }
 ],
 "metadata": {
  "kernelspec": {
   "display_name": "Python 3",
   "language": "python",
   "name": "python3"
  },
  "language_info": {
   "codemirror_mode": {
    "name": "ipython",
    "version": 3
   },
   "file_extension": ".py",
   "mimetype": "text/x-python",
   "name": "python",
   "nbconvert_exporter": "python",
   "pygments_lexer": "ipython3",
   "version": "3.7.3"
  }
 },
 "nbformat": 4,
 "nbformat_minor": 5
}
